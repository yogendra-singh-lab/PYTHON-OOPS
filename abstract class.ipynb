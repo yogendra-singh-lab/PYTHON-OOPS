{
 "cells": [
  {
   "cell_type": "code",
   "execution_count": 4,
   "metadata": {},
   "outputs": [
    {
     "name": "stdout",
     "output_type": "stream",
     "text": [
      "car is created\n"
     ]
    }
   ],
   "source": [
    "from abc import ABC,abstractmethod\n",
    "class Vechile(ABC):\n",
    "    def __init__(self):\n",
    "        print(\"vechile class is created\")\n",
    "    @abstractmethod   \n",
    "    def start(self):\n",
    "        pass\n",
    "    @abstractmethod\n",
    "    def stop(self):\n",
    "        pass\n",
    "    @abstractmethod\n",
    "    def drive(self):\n",
    "        pass\n",
    "class Car(Vechile):\n",
    "    def __init__(self, name):\n",
    "        print(\"car is created\")\n",
    "        self.name = name\n",
    "    def start(self):\n",
    "        pass\n",
    "    def stop(self):\n",
    "        pass\n",
    "    def drive(self):\n",
    "        pass\n",
    "        \n",
    "c = Car(\"yogi\")\n"
   ]
  },
  {
   "cell_type": "code",
   "execution_count": 16,
   "metadata": {},
   "outputs": [
    {
     "name": "stdout",
     "output_type": "stream",
     "text": [
      "vechile class is created\n",
      "abstract method is called\n",
      "abstract method is called\n"
     ]
    },
    {
     "data": {
      "text/plain": [
       "<bound method Vechile.get_no_of_wheels of <__main__.Car object at 0x005F3250>>"
      ]
     },
     "execution_count": 16,
     "metadata": {},
     "output_type": "execute_result"
    }
   ],
   "source": [
    "from abc import ABC,abstractmethod\n",
    "class Vechile(ABC):\n",
    "    def __init__(self,no_of_wheels):\n",
    "        self.no_of_wheels = no_of_wheels\n",
    "        print(\"vechile class is created\")\n",
    "    @abstractmethod   \n",
    "    def start(self):\n",
    "        print(\"abstract method is called\")\n",
    "    @abstractmethod\n",
    "    def stop(self):\n",
    "        pass\n",
    "    @abstractmethod\n",
    "    def drive(self):\n",
    "        pass\n",
    "    @abstractmethod\n",
    "    def get_no_of_wheels(self):\n",
    "        return self.no_of_vechiles\n",
    "class Car(Vechile):\n",
    "    def start(self):\n",
    "        super().start()\n",
    "        print(\"abstract method is called\")\n",
    "    def stop(self):\n",
    "        pass\n",
    "    def drive(self):\n",
    "        pass\n",
    "    def get_no_of_wheels(self):\n",
    "        return super().get_no_of_wheels\n",
    "c = Car(4)\n",
    "c.start()\n",
    "c.get_no_of_wheels()\n"
   ]
  },
  {
   "cell_type": "code",
   "execution_count": 1,
   "metadata": {},
   "outputs": [
    {
     "name": "stdout",
     "output_type": "stream",
     "text": [
      "WELCOME TO SHEKHAWAT BANK\n",
      "Choose your funtion\n",
      "1.show_details\n",
      "2.deposit\n",
      "3.withdraw\n",
      "4.checkbalance\n",
      "1\n"
     ]
    },
    {
     "ename": "NameError",
     "evalue": "name 'u' is not defined",
     "output_type": "error",
     "traceback": [
      "\u001b[1;31m---------------------------------------------------------------------------\u001b[0m",
      "\u001b[1;31mNameError\u001b[0m                                 Traceback (most recent call last)",
      "\u001b[1;32m<ipython-input-1-611315bf7d92>\u001b[0m in \u001b[0;36m<module>\u001b[1;34m\u001b[0m\n\u001b[0;32m      8\u001b[0m         \u001b[0mprint\u001b[0m\u001b[1;33m(\u001b[0m\u001b[1;34m\"age\"\u001b[0m\u001b[1;33m,\u001b[0m\u001b[0mself\u001b[0m\u001b[1;33m.\u001b[0m\u001b[0mage\u001b[0m\u001b[1;33m)\u001b[0m\u001b[1;33m\u001b[0m\u001b[1;33m\u001b[0m\u001b[0m\n\u001b[0;32m      9\u001b[0m         \u001b[0mprint\u001b[0m\u001b[1;33m(\u001b[0m\u001b[1;34m\"gender of the user:\"\u001b[0m\u001b[1;33m+\u001b[0m \u001b[0mself\u001b[0m\u001b[1;33m.\u001b[0m\u001b[0mgender\u001b[0m\u001b[1;33m)\u001b[0m\u001b[1;33m\u001b[0m\u001b[1;33m\u001b[0m\u001b[0m\n\u001b[1;32m---> 10\u001b[1;33m \u001b[1;32mclass\u001b[0m \u001b[0mBank\u001b[0m\u001b[1;33m(\u001b[0m\u001b[0mUser\u001b[0m\u001b[1;33m)\u001b[0m\u001b[1;33m:\u001b[0m\u001b[1;33m\u001b[0m\u001b[1;33m\u001b[0m\u001b[0m\n\u001b[0m\u001b[0;32m     11\u001b[0m     \u001b[1;32mdef\u001b[0m \u001b[0m__init__\u001b[0m\u001b[1;33m(\u001b[0m\u001b[0mself\u001b[0m\u001b[1;33m,\u001b[0m\u001b[0mname\u001b[0m\u001b[1;33m,\u001b[0m\u001b[0mage\u001b[0m\u001b[1;33m,\u001b[0m\u001b[0mgender\u001b[0m\u001b[1;33m)\u001b[0m\u001b[1;33m:\u001b[0m\u001b[1;33m\u001b[0m\u001b[1;33m\u001b[0m\u001b[0m\n\u001b[0;32m     12\u001b[0m         \u001b[0msuper\u001b[0m\u001b[1;33m(\u001b[0m\u001b[1;33m)\u001b[0m\u001b[1;33m.\u001b[0m\u001b[0m__init__\u001b[0m\u001b[1;33m(\u001b[0m\u001b[0mname\u001b[0m\u001b[1;33m,\u001b[0m\u001b[0mage\u001b[0m\u001b[1;33m,\u001b[0m\u001b[0mgender\u001b[0m\u001b[1;33m)\u001b[0m\u001b[1;33m\u001b[0m\u001b[1;33m\u001b[0m\u001b[0m\n",
      "\u001b[1;32m<ipython-input-1-611315bf7d92>\u001b[0m in \u001b[0;36mBank\u001b[1;34m()\u001b[0m\n\u001b[0;32m     44\u001b[0m         \u001b[0mchoice\u001b[0m \u001b[1;33m=\u001b[0m \u001b[0mint\u001b[0m\u001b[1;33m(\u001b[0m\u001b[0minput\u001b[0m\u001b[1;33m(\u001b[0m\u001b[1;33m)\u001b[0m\u001b[1;33m)\u001b[0m\u001b[1;33m\u001b[0m\u001b[1;33m\u001b[0m\u001b[0m\n\u001b[0;32m     45\u001b[0m         \u001b[1;32mif\u001b[0m \u001b[0mchoice\u001b[0m \u001b[1;33m==\u001b[0m \u001b[1;36m1\u001b[0m\u001b[1;33m:\u001b[0m\u001b[1;33m\u001b[0m\u001b[1;33m\u001b[0m\u001b[0m\n\u001b[1;32m---> 46\u001b[1;33m             \u001b[0mu\u001b[0m\u001b[1;33m.\u001b[0m\u001b[0mshow_details\u001b[0m\u001b[1;33m(\u001b[0m\u001b[1;33m)\u001b[0m\u001b[1;33m\u001b[0m\u001b[1;33m\u001b[0m\u001b[0m\n\u001b[0m\u001b[0;32m     47\u001b[0m         \u001b[1;32melif\u001b[0m \u001b[0mchoice\u001b[0m \u001b[1;33m==\u001b[0m \u001b[1;36m2\u001b[0m\u001b[1;33m:\u001b[0m\u001b[1;33m\u001b[0m\u001b[1;33m\u001b[0m\u001b[0m\n\u001b[0;32m     48\u001b[0m             \u001b[0mu\u001b[0m\u001b[1;33m.\u001b[0m\u001b[0mdeposit\u001b[0m\u001b[1;33m(\u001b[0m\u001b[1;33m)\u001b[0m\u001b[1;33m\u001b[0m\u001b[1;33m\u001b[0m\u001b[0m\n",
      "\u001b[1;31mNameError\u001b[0m: name 'u' is not defined"
     ]
    }
   ],
   "source": [
    "class User:\n",
    "    def __init__(self,name, age,gender):\n",
    "        self.name = name\n",
    "        self.gender = gender\n",
    "        self.age = age\n",
    "    def show_details(self):\n",
    "        print(\"Name of the user:\" + self.name)\n",
    "        print(\"age\",self.age)\n",
    "        print(\"gender of the user:\"+ self.gender)\n",
    "class Bank(User):\n",
    "    def __init__(self,name,age,gender):\n",
    "        super().__init__(name,age,gender)\n",
    "        self.total_balance = 0\n",
    "    def deposit(self):\n",
    "        amount = int(input(\"Enter the amount to be deposited :\"))\n",
    "        if amount <100:\n",
    "            print(\"Minimum deposition amount should be greater than 100rs\")\n",
    "        else:\n",
    "            self.total_balance = self.total_balance + amount \n",
    "            print(\"amount is deposited\")\n",
    "            print(\"total balance of your account is:\",self.total_balance)\n",
    "    def withdrawn(self):\n",
    "        amount = int(input(\"Enter the amount you want to withdraw\"))\n",
    "        if self.total_balance>amount:\n",
    "            if amount<100:\n",
    "                print(\"minimum withdrawn limit is greater than 100rs:\")\n",
    "            else:\n",
    "                print(\"your transaction is in process please wait.......... HOPE YOU HAVE PUT UP YOUR MASK!\")\n",
    "                self.total_balance = self.balance - amount\n",
    "        else:\n",
    "            print(\"sorry you dont have required amount in your account\")\n",
    "            print(\"DON'T FORGET TO PUT ON YOUR MASK !\")\n",
    "    def checkbalance(self):\n",
    "        print(\" total balance is:\" ,self.total_balance)\n",
    "        if self.total_balance == 0:\n",
    "            print(\"Warning!: your account has negative balance please deposit some amount to keep your account working\")\n",
    "    while(True):\n",
    "        print(\"WELCOME TO SHEKHAWAT BANK\")\n",
    "        print(\"Choose your funtion\")\n",
    "        print(\"1.show_details\")\n",
    "        print(\"2.deposit\")\n",
    "        print(\"3.withdraw\")\n",
    "        print(\"4.checkbalance\")\n",
    "        choice = int(input())\n",
    "        if choice == 1:\n",
    "            u.show_details()\n",
    "        elif choice == 2:\n",
    "            u.deposit()\n",
    "        elif choice == 3 : \n",
    "            u.withdraw()\n",
    "        elif choice == 4:\n",
    "            u.checkbalance()\n",
    "        else:\n",
    "            print(\"wrong entry\")\n",
    "        print(\"press c to continue and q to exit\")\n",
    "        choice2 = input()\n",
    "        if choice2 == \"c\":\n",
    "            continue\n",
    "        elif choice == \"q\":\n",
    "            exit()\n",
    "        \n",
    "        \n",
    "u = Bank(\"yogendra\",21,\"male\")"
   ]
  },
  {
   "cell_type": "code",
   "execution_count": null,
   "metadata": {},
   "outputs": [],
   "source": []
  }
 ],
 "metadata": {
  "kernelspec": {
   "display_name": "Python 3",
   "language": "python",
   "name": "python3"
  },
  "language_info": {
   "codemirror_mode": {
    "name": "ipython",
    "version": 3
   },
   "file_extension": ".py",
   "mimetype": "text/x-python",
   "name": "python",
   "nbconvert_exporter": "python",
   "pygments_lexer": "ipython3",
   "version": "3.8.5"
  }
 },
 "nbformat": 4,
 "nbformat_minor": 4
}
