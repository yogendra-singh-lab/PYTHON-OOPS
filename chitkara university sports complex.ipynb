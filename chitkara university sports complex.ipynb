{
 "cells": [
  {
   "cell_type": "code",
   "execution_count": 1,
   "metadata": {},
   "outputs": [
    {
     "ename": "IndentationError",
     "evalue": "expected an indented block (<ipython-input-1-725e0d60d80a>, line 27)",
     "output_type": "error",
     "traceback": [
      "\u001b[1;36m  File \u001b[1;32m\"<ipython-input-1-725e0d60d80a>\"\u001b[1;36m, line \u001b[1;32m27\u001b[0m\n\u001b[1;33m    def apply_membership(self):\u001b[0m\n\u001b[1;37m    ^\u001b[0m\n\u001b[1;31mIndentationError\u001b[0m\u001b[1;31m:\u001b[0m expected an indented block\n"
     ]
    }
   ],
   "source": [
    "class Student:\n",
    "    def __init__(self,Name,Rollno,equipments):\n",
    "        self.name = name\n",
    "        self.rollno = rollno\n",
    "        self.equipments = list\n",
    "    def show_details(self):\n",
    "        print(\"WELCOME TO CHITKARA UNIVERSITY SPORTS ARENA\")\n",
    "        print(\"hey!\"+ self.name + \"HOW CAN I HELP YOU?\")\n",
    "        print(\"Rollno\" + self.rollno)\n",
    "        print(\"NUMBER OF EQUIPMENT ISSUED:\")\n",
    "        print(\"NUMBER OF PENDING ISSUED EQUIPMENTS\")\n",
    "class Sportsarena(Student):\n",
    "    def __init__(self,name,rollno):\n",
    "        super().__init__(self,name,rollno)\n",
    "        self.equipmentIssue = {}\n",
    "        count = 0\n",
    "    def issue_item(self):\n",
    "        eq = input(\"enter the quipment you want to take\")\n",
    "        if eq in self.equipment:\n",
    "            self.equipmentIssue.update({eq:self.name})\n",
    "            self.equipment.remove(eq)\n",
    "            time = int(input(\"enter the time \"))\n",
    "            print(\"the equipment has bee issued \")\n",
    "            print(\"issued at\",time)\n",
    "            count +=1\n",
    "        else:\n",
    "            print(\"the equipment is already outside\")\n",
    "            \n",
    "        \n",
    "    def deposit_equipment(self):\n",
    "        eq = input(\"enter the equipment you want to deposit\")\n",
    "        if eq in self.equipment:\n",
    "            print(\"the equipment has been already deposited\")\n",
    "        else:\n",
    "            self.equipment.append(eq)\n",
    "            self.equipmentIssue.remove(eq)\n",
    "            time = int(input(\"enter the time \"))\n",
    "            print(\"the\" + eq + \"has been deposited at\",time)\n",
    "            count-=1\n",
    "    def equipment_issued(self):\n",
    "        if len(self.equipmentIssue)>0:\n",
    "            print(\"the following equipments has been issued and not deposited yet\")\n",
    "            print(self.equipmentIssue.keys())\n",
    "        else:\n",
    "            print(\"no pending equipment\")\n",
    "    def pending_equipment(self):\n",
    "        print(\"total pending equipments are:\",count)\n",
    "while(True):\n",
    "    print(\"welcome  \")\n",
    "                   \n",
    "    \n",
    "    \n",
    "        "
   ]
  },
  {
   "cell_type": "code",
   "execution_count": null,
   "metadata": {},
   "outputs": [],
   "source": []
  }
 ],
 "metadata": {
  "kernelspec": {
   "display_name": "Python 3",
   "language": "python",
   "name": "python3"
  },
  "language_info": {
   "codemirror_mode": {
    "name": "ipython",
    "version": 3
   },
   "file_extension": ".py",
   "mimetype": "text/x-python",
   "name": "python",
   "nbconvert_exporter": "python",
   "pygments_lexer": "ipython3",
   "version": "3.8.5"
  }
 },
 "nbformat": 4,
 "nbformat_minor": 4
}
